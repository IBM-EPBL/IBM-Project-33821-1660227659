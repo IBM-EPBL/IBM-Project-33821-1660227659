{
 "cells": [
  {
   "cell_type": "markdown",
   "id": "acb6fffc",
   "metadata": {},
   "source": [
    "# Image Preprocessing"
   ]
  },
  {
   "cell_type": "code",
   "execution_count": 1,
   "id": "f89d2658",
   "metadata": {},
   "outputs": [],
   "source": [
    "import keras\n",
    "from keras.preprocessing.image import ImageDataGenerator"
   ]
  },
  {
   "cell_type": "code",
   "execution_count": 2,
   "id": "4e40c38d",
   "metadata": {},
   "outputs": [],
   "source": [
    "import matplotlib.pyplot as plt\n",
    "import numpy as np"
   ]
  },
  {
   "cell_type": "markdown",
   "id": "330b07d7",
   "metadata": {},
   "source": [
    "## Define The Parameters /Arguments For ImageDataGenerator Class"
   ]
  },
  {
   "cell_type": "code",
   "execution_count": 4,
   "id": "ec17bc0c",
   "metadata": {},
   "outputs": [],
   "source": [
    "batch_size = 32\n",
    "\n",
    "train_datagen = ImageDataGenerator(\n",
    "    shear_range=0.2,\n",
    "    rotation_range=180,\n",
    "    zoom_range=0.2,\n",
    "    horizontal_flip=True,\n",
    ")\n",
    "\n",
    "val_datagen = ImageDataGenerator(\n",
    "    rescale=1./255\n",
    ")"
   ]
  },
  {
   "cell_type": "markdown",
   "id": "b801e9db",
   "metadata": {},
   "source": [
    "## Applying ImageDataGenerator Functionality To Trainset And Testset"
   ]
  },
  {
   "cell_type": "code",
   "execution_count": 5,
   "id": "be0c2e07",
   "metadata": {},
   "outputs": [
    {
     "name": "stdout",
     "output_type": "stream",
     "text": [
      "Found 435 images belonging to 2 classes.\n",
      "Found 121 images belonging to 2 classes.\n"
     ]
    }
   ],
   "source": [
    "train_generator = train_datagen.flow_from_directory(\n",
    "    'train_set/',\n",
    "    target_size=(150, 150),\n",
    "    batch_size=batch_size,\n",
    "    class_mode='binary'\n",
    ")\n",
    "\n",
    "val_generator = val_datagen.flow_from_directory(\n",
    "    'test_set/',\n",
    "    target_size=(150, 150),\n",
    "    batch_size=batch_size,\n",
    "    class_mode='binary'\n",
    ")"
   ]
  },
  {
   "cell_type": "markdown",
   "id": "4e1fa44a",
   "metadata": {},
   "source": [
    "# Model Building\n",
    "\n",
    "\n",
    "### Importing Libraries"
   ]
  },
  {
   "cell_type": "code",
   "execution_count": 6,
   "id": "6f1e160a",
   "metadata": {},
   "outputs": [],
   "source": [
    "from keras.models import Sequential\n",
    "from keras.layers import Convolution2D\n",
    "from keras.layers import MaxPooling2D\n",
    "from keras.layers import Activation\n",
    "from keras.layers import Dropout\n",
    "from keras.layers import Flatten\n",
    "from keras.layers import Dense"
   ]
  },
  {
   "cell_type": "code",
   "execution_count": 7,
   "id": "e1b0df82",
   "metadata": {},
   "outputs": [],
   "source": [
    "model=Sequential()\n",
    "model.add(Convolution2D(32,(3,3),input_shape=(150,150,3)))\n",
    "model.add(Activation('relu'))\n",
    "model.add(MaxPooling2D(pool_size=(2,2)))\n",
    "model.add(Flatten())\n",
    "model.add(Dense(150))\n",
    "model.add(Activation('relu'))\n",
    "model.add(Dropout(0.5))\n",
    "model.add(Dense(1))\n",
    "model.add(Activation('sigmoid'))\n",
    "model.compile(\n",
    "    loss='binary_crossentropy',\n",
    "    optimizer='adam',\n",
    "    metrics=['accuracy']\n",
    ")"
   ]
  },
  {
   "cell_type": "code",
   "execution_count": 8,
   "id": "88579f44",
   "metadata": {},
   "outputs": [
    {
     "name": "stdout",
     "output_type": "stream",
     "text": [
      "Model: \"sequential\"\n",
      "_________________________________________________________________\n",
      "Layer (type)                 Output Shape              Param #   \n",
      "=================================================================\n",
      "conv2d (Conv2D)              (None, 148, 148, 32)      896       \n",
      "_________________________________________________________________\n",
      "activation (Activation)      (None, 148, 148, 32)      0         \n",
      "_________________________________________________________________\n",
      "max_pooling2d (MaxPooling2D) (None, 74, 74, 32)        0         \n",
      "_________________________________________________________________\n",
      "flatten (Flatten)            (None, 175232)            0         \n",
      "_________________________________________________________________\n",
      "dense (Dense)                (None, 150)               26284950  \n",
      "_________________________________________________________________\n",
      "activation_1 (Activation)    (None, 150)               0         \n",
      "_________________________________________________________________\n",
      "dropout (Dropout)            (None, 150)               0         \n",
      "_________________________________________________________________\n",
      "dense_1 (Dense)              (None, 1)                 151       \n",
      "_________________________________________________________________\n",
      "activation_2 (Activation)    (None, 1)                 0         \n",
      "=================================================================\n",
      "Total params: 26,285,997\n",
      "Trainable params: 26,285,997\n",
      "Non-trainable params: 0\n",
      "_________________________________________________________________\n"
     ]
    }
   ],
   "source": [
    "model.summary()"
   ]
  },
  {
   "cell_type": "code",
   "execution_count": 9,
   "id": "10ccd967",
   "metadata": {},
   "outputs": [
    {
     "name": "stdout",
     "output_type": "stream",
     "text": [
      "Epoch 1/10\n",
      "14/14 [==============================] - 20s 1s/step - loss: 1035.5992 - accuracy: 0.5954 - val_loss: 0.5520 - val_accuracy: 0.8430\n",
      "Epoch 2/10\n",
      "14/14 [==============================] - 15s 1s/step - loss: 121.5198 - accuracy: 0.8046 - val_loss: 0.2016 - val_accuracy: 0.9174\n",
      "Epoch 3/10\n",
      "14/14 [==============================] - 15s 1s/step - loss: 23.5166 - accuracy: 0.8276 - val_loss: 0.2799 - val_accuracy: 0.9669\n",
      "Epoch 4/10\n",
      "14/14 [==============================] - 15s 1s/step - loss: 2.9886 - accuracy: 0.8552 - val_loss: 0.3461 - val_accuracy: 0.9339\n",
      "Epoch 5/10\n",
      "14/14 [==============================] - 15s 1s/step - loss: 0.3443 - accuracy: 0.7839 - val_loss: 0.3864 - val_accuracy: 0.9504\n",
      "Epoch 6/10\n",
      "14/14 [==============================] - 15s 987ms/step - loss: 1.4259 - accuracy: 0.8529 - val_loss: 0.3754 - val_accuracy: 0.9421\n",
      "Epoch 7/10\n",
      "14/14 [==============================] - 15s 1s/step - loss: 0.3206 - accuracy: 0.8897 - val_loss: 0.3833 - val_accuracy: 0.9504\n",
      "Epoch 8/10\n",
      "14/14 [==============================] - 14s 1s/step - loss: 0.4532 - accuracy: 0.8943 - val_loss: 0.4119 - val_accuracy: 0.9339\n",
      "Epoch 9/10\n",
      "14/14 [==============================] - 15s 1s/step - loss: 5.0921 - accuracy: 0.8621 - val_loss: 0.3697 - val_accuracy: 0.9008\n",
      "Epoch 10/10\n",
      "14/14 [==============================] - 15s 1s/step - loss: 0.4495 - accuracy: 0.9034 - val_loss: 0.3670 - val_accuracy: 0.8843\n"
     ]
    },
    {
     "data": {
      "text/plain": [
       "<keras.callbacks.History at 0x20c874fafd0>"
      ]
     },
     "execution_count": 9,
     "metadata": {},
     "output_type": "execute_result"
    }
   ],
   "source": [
    "model.fit(train_generator,steps_per_epoch=14,\n",
    "          epochs=10,validation_data=val_generator\n",
    "          ,validation_steps=4)"
   ]
  },
  {
   "cell_type": "code",
   "execution_count": 10,
   "id": "c2bb4c0d",
   "metadata": {},
   "outputs": [],
   "source": [
    "model.save(\"forestfire.h5\")"
   ]
  },
  {
   "cell_type": "code",
   "execution_count": null,
   "id": "5b15b427",
   "metadata": {},
   "outputs": [],
   "source": []
  }
 ],
 "metadata": {
  "kernelspec": {
   "display_name": "Python 3",
   "language": "python",
   "name": "python3"
  },
  "language_info": {
   "codemirror_mode": {
    "name": "ipython",
    "version": 3
   },
   "file_extension": ".py",
   "mimetype": "text/x-python",
   "name": "python",
   "nbconvert_exporter": "python",
   "pygments_lexer": "ipython3",
   "version": "3.8.8"
  }
 },
 "nbformat": 4,
 "nbformat_minor": 5
}
