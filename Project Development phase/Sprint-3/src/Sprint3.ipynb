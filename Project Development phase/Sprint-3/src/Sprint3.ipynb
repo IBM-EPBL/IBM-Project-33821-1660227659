{
 "cells": [
  {
   "cell_type": "markdown",
   "id": "725faaec",
   "metadata": {},
   "source": [
    "# Image Preprocessing"
   ]
  },
  {
   "cell_type": "code",
   "execution_count": 1,
   "id": "bb4d9636",
   "metadata": {},
   "outputs": [],
   "source": [
    "import keras\n",
    "from keras.preprocessing.image import ImageDataGenerator"
   ]
  },
  {
   "cell_type": "code",
   "execution_count": 2,
   "id": "594da0f0",
   "metadata": {},
   "outputs": [],
   "source": [
    "import matplotlib.pyplot as plt\n",
    "import numpy as np"
   ]
  },
  {
   "cell_type": "markdown",
   "id": "f274e0c9",
   "metadata": {},
   "source": [
    "## Define The Parameters /Arguments For ImageDataGenerator Class"
   ]
  },
  {
   "cell_type": "code",
   "execution_count": 4,
   "id": "75c5bfb4",
   "metadata": {},
   "outputs": [],
   "source": [
    "batch_size = 32\n",
    "\n",
    "train_datagen = ImageDataGenerator(\n",
    "    shear_range=0.2,\n",
    "    rotation_range=180,\n",
    "    zoom_range=0.2,\n",
    "    horizontal_flip=True,\n",
    ")\n",
    "\n",
    "val_datagen = ImageDataGenerator(\n",
    "    rescale=1./255\n",
    ")"
   ]
  },
  {
   "cell_type": "markdown",
   "id": "171b3815",
   "metadata": {},
   "source": [
    "## Applying ImageDataGenerator Functionality To Trainset And Testset"
   ]
  },
  {
   "cell_type": "code",
   "execution_count": 5,
   "id": "d338b29b",
   "metadata": {},
   "outputs": [
    {
     "name": "stdout",
     "output_type": "stream",
     "text": [
      "Found 435 images belonging to 2 classes.\n",
      "Found 121 images belonging to 2 classes.\n"
     ]
    }
   ],
   "source": [
    "train_generator = train_datagen.flow_from_directory(\n",
    "    'train_set/',\n",
    "    target_size=(150, 150),\n",
    "    batch_size=batch_size,\n",
    "    class_mode='binary'\n",
    ")\n",
    "\n",
    "val_generator = val_datagen.flow_from_directory(\n",
    "    'test_set/',\n",
    "    target_size=(150, 150),\n",
    "    batch_size=batch_size,\n",
    "    class_mode='binary'\n",
    ")"
   ]
  },
  {
   "cell_type": "markdown",
   "id": "8d962509",
   "metadata": {},
   "source": [
    "# Model Building\n",
    "\n",
    "\n",
    "### Importing Libraries"
   ]
  },
  {
   "cell_type": "code",
   "execution_count": 6,
   "id": "c995273d",
   "metadata": {},
   "outputs": [],
   "source": [
    "from keras.models import Sequential\n",
    "from keras.layers import Convolution2D\n",
    "from keras.layers import MaxPooling2D\n",
    "from keras.layers import Activation\n",
    "from keras.layers import Dropout\n",
    "from keras.layers import Flatten\n",
    "from keras.layers import Dense"
   ]
  },
  {
   "cell_type": "code",
   "execution_count": 7,
   "id": "d9acaaae",
   "metadata": {},
   "outputs": [],
   "source": [
    "model=Sequential()\n",
    "model.add(Convolution2D(32,(3,3),input_shape=(150,150,3)))\n",
    "model.add(Activation('relu'))\n",
    "model.add(MaxPooling2D(pool_size=(2,2)))\n",
    "model.add(Flatten())\n",
    "model.add(Dense(150))\n",
    "model.add(Activation('relu'))\n",
    "model.add(Dropout(0.5))\n",
    "model.add(Dense(1))\n",
    "model.add(Activation('sigmoid'))\n",
    "model.compile(\n",
    "    loss='binary_crossentropy',\n",
    "    optimizer='adam',\n",
    "    metrics=['accuracy']\n",
    ")"
   ]
  },
  {
   "cell_type": "code",
   "execution_count": 8,
   "id": "6e64ec09",
   "metadata": {},
   "outputs": [
    {
     "name": "stdout",
     "output_type": "stream",
     "text": [
      "Model: \"sequential\"\n",
      "_________________________________________________________________\n",
      "Layer (type)                 Output Shape              Param #   \n",
      "=================================================================\n",
      "conv2d (Conv2D)              (None, 148, 148, 32)      896       \n",
      "_________________________________________________________________\n",
      "activation (Activation)      (None, 148, 148, 32)      0         \n",
      "_________________________________________________________________\n",
      "max_pooling2d (MaxPooling2D) (None, 74, 74, 32)        0         \n",
      "_________________________________________________________________\n",
      "flatten (Flatten)            (None, 175232)            0         \n",
      "_________________________________________________________________\n",
      "dense (Dense)                (None, 150)               26284950  \n",
      "_________________________________________________________________\n",
      "activation_1 (Activation)    (None, 150)               0         \n",
      "_________________________________________________________________\n",
      "dropout (Dropout)            (None, 150)               0         \n",
      "_________________________________________________________________\n",
      "dense_1 (Dense)              (None, 1)                 151       \n",
      "_________________________________________________________________\n",
      "activation_2 (Activation)    (None, 1)                 0         \n",
      "=================================================================\n",
      "Total params: 26,285,997\n",
      "Trainable params: 26,285,997\n",
      "Non-trainable params: 0\n",
      "_________________________________________________________________\n"
     ]
    }
   ],
   "source": [
    "model.summary()"
   ]
  },
  {
   "cell_type": "code",
   "execution_count": 9,
   "id": "283dcd53",
   "metadata": {},
   "outputs": [
    {
     "name": "stdout",
     "output_type": "stream",
     "text": [
      "Epoch 1/10\n",
      "14/14 [==============================] - 20s 1s/step - loss: 1035.5992 - accuracy: 0.5954 - val_loss: 0.5520 - val_accuracy: 0.8430\n",
      "Epoch 2/10\n",
      "14/14 [==============================] - 15s 1s/step - loss: 121.5198 - accuracy: 0.8046 - val_loss: 0.2016 - val_accuracy: 0.9174\n",
      "Epoch 3/10\n",
      "14/14 [==============================] - 15s 1s/step - loss: 23.5166 - accuracy: 0.8276 - val_loss: 0.2799 - val_accuracy: 0.9669\n",
      "Epoch 4/10\n",
      "14/14 [==============================] - 15s 1s/step - loss: 2.9886 - accuracy: 0.8552 - val_loss: 0.3461 - val_accuracy: 0.9339\n",
      "Epoch 5/10\n",
      "14/14 [==============================] - 15s 1s/step - loss: 0.3443 - accuracy: 0.7839 - val_loss: 0.3864 - val_accuracy: 0.9504\n",
      "Epoch 6/10\n",
      "14/14 [==============================] - 15s 987ms/step - loss: 1.4259 - accuracy: 0.8529 - val_loss: 0.3754 - val_accuracy: 0.9421\n",
      "Epoch 7/10\n",
      "14/14 [==============================] - 15s 1s/step - loss: 0.3206 - accuracy: 0.8897 - val_loss: 0.3833 - val_accuracy: 0.9504\n",
      "Epoch 8/10\n",
      "14/14 [==============================] - 14s 1s/step - loss: 0.4532 - accuracy: 0.8943 - val_loss: 0.4119 - val_accuracy: 0.9339\n",
      "Epoch 9/10\n",
      "14/14 [==============================] - 15s 1s/step - loss: 5.0921 - accuracy: 0.8621 - val_loss: 0.3697 - val_accuracy: 0.9008\n",
      "Epoch 10/10\n",
      "14/14 [==============================] - 15s 1s/step - loss: 0.4495 - accuracy: 0.9034 - val_loss: 0.3670 - val_accuracy: 0.8843\n"
     ]
    },
    {
     "data": {
      "text/plain": [
       "<keras.callbacks.History at 0x20c874fafd0>"
      ]
     },
     "execution_count": 9,
     "metadata": {},
     "output_type": "execute_result"
    }
   ],
   "source": [
    "model.fit(train_generator,steps_per_epoch=14,\n",
    "          epochs=10,validation_data=val_generator\n",
    "          ,validation_steps=4)"
   ]
  },
  {
   "cell_type": "code",
   "execution_count": 10,
   "id": "378a470d",
   "metadata": {},
   "outputs": [],
   "source": [
    "model.save(\"forestfire.h5\")"
   ]
  },
  {
   "cell_type": "markdown",
   "id": "4d7f44a2",
   "metadata": {},
   "source": [
    "## CV2 Video Analysis"
   ]
  },
  {
   "cell_type": "code",
   "execution_count": 11,
   "id": "6accf714",
   "metadata": {},
   "outputs": [],
   "source": [
    "from keras.models import load_model\n",
    "from keras.preprocessing import image\n",
    "import numpy as np\n",
    "import cv2\n",
    "from PIL import Image, ImageOps"
   ]
  },
  {
   "cell_type": "code",
   "execution_count": 14,
   "id": "633ae807",
   "metadata": {},
   "outputs": [],
   "source": [
    "model=load_model(\"forest1.h5\")"
   ]
  },
  {
   "cell_type": "code",
   "execution_count": 15,
   "id": "df8315e3",
   "metadata": {},
   "outputs": [
    {
     "data": {
      "text/plain": [
       "'Fire'"
      ]
     },
     "execution_count": 15,
     "metadata": {},
     "output_type": "execute_result"
    }
   ],
   "source": [
    "data=np.ndarray(shape=(1,150,150,3),dtype=np.float32)\n",
    "class_name=['Fire','No_Fire']\n",
    "img=image.load_img('train_set/forest/NoFire (1).bmp',target_size=(64,64))\n",
    "img_array = image.img_to_array(img)\n",
    "img_batch = np.expand_dims(img_array, axis=0)\n",
    "# x=np.expand_dims(x,axis=0)\n",
    "pred=model.predict(img_batch)\n",
    "index=np.argmax(pred)\n",
    "class_name[index]"
   ]
  },
  {
   "cell_type": "markdown",
   "id": "21008dd3",
   "metadata": {},
   "source": [
    "## Importing Twilio and Connecting Twilio Account "
   ]
  },
  {
   "cell_type": "code",
   "execution_count": 16,
   "id": "57acc6cd",
   "metadata": {},
   "outputs": [],
   "source": [
    "from twilio.rest import Client\n",
    "from playsound import playsound"
   ]
  },
  {
   "cell_type": "code",
   "execution_count": 17,
   "id": "b3344cdc",
   "metadata": {},
   "outputs": [],
   "source": [
    "model=load_model('forest1.h5')\n",
    "video=cv2.VideoCapture(0)\n",
    "name=['forest','with fire']"
   ]
  },
  {
   "cell_type": "code",
   "execution_count": 18,
   "id": "ed3963da",
   "metadata": {},
   "outputs": [
    {
     "name": "stdout",
     "output_type": "stream",
     "text": [
      "SM66ac25dce14c53a89a912814d034dfaf\n",
      "Alert Message sent\n"
     ]
    }
   ],
   "source": [
    "account_sid='ACca0e8bb11699d2957d67c979ca84b68a'\n",
    "auth_token='bcb5f3850ef4b7ed263f60efc9acecdb'\n",
    "client =Client(account_sid,auth_token)\n",
    "message=client.messages \\\n",
    ".create(\n",
    "body='-------Forest Fire is detected,Stay Alert !!!--------',\n",
    "    from_='+19457581434',to='+919943435141')\n",
    "print(message.sid)\n",
    "print(\"Alert Message sent\")"
   ]
  },
  {
   "cell_type": "code",
   "execution_count": null,
   "id": "d9ccc2e2",
   "metadata": {},
   "outputs": [],
   "source": []
  }
 ],
 "metadata": {
  "kernelspec": {
   "display_name": "Python 3",
   "language": "python",
   "name": "python3"
  },
  "language_info": {
   "codemirror_mode": {
    "name": "ipython",
    "version": 3
   },
   "file_extension": ".py",
   "mimetype": "text/x-python",
   "name": "python",
   "nbconvert_exporter": "python",
   "pygments_lexer": "ipython3",
   "version": "3.8.8"
  }
 },
 "nbformat": 4,
 "nbformat_minor": 5
}
